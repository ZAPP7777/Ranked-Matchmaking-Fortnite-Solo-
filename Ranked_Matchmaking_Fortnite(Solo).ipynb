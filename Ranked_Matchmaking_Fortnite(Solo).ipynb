{
  "nbformat": 4,
  "nbformat_minor": 0,
  "metadata": {
    "colab": {
      "name": "Ranked_Matchmaking_Fortnite(Solo)",
      "provenance": [],
      "collapsed_sections": []
    },
    "kernelspec": {
      "name": "python3",
      "display_name": "Python 3"
    },
    "language_info": {
      "name": "python"
    }
  },
  "cells": [
    {
      "cell_type": "markdown",
      "source": [
        "#**Importing the Dependencies**"
      ],
      "metadata": {
        "id": "qgZIJsqZVrMY"
      }
    },
    {
      "cell_type": "code",
      "execution_count": 3,
      "metadata": {
        "id": "KhJtKNzSQ0RY"
      },
      "outputs": [],
      "source": [
        "import numpy as np\n",
        "import pandas as pd\n",
        "from sklearn.model_selection import train_test_split\n",
        "from sklearn.ensemble import RandomForestRegressor\n",
        "from sklearn.linear_model import LogisticRegression\n",
        "from sklearn.ensemble import ExtraTreesRegressor\n",
        "from sklearn.metrics import accuracy_score \n",
        "from sklearn.preprocessing import StandardScaler\n",
        "import matplotlib.pyplot as plt\n",
        "import seaborn as sns"
      ]
    },
    {
      "cell_type": "markdown",
      "source": [
        "#**Data Collection and Processing**"
      ],
      "metadata": {
        "id": "dm6Nf7C3WOTF"
      }
    },
    {
      "cell_type": "code",
      "source": [
        "fortnite_data = pd.read_excel('/content/Fortnite_players_stats.xlsx')"
      ],
      "metadata": {
        "id": "pLZ0Z3QpV3cI"
      },
      "execution_count": 4,
      "outputs": []
    },
    {
      "cell_type": "code",
      "source": [
        "fortnite_data.head()"
      ],
      "metadata": {
        "id": "KoouDOgOai7j",
        "colab": {
          "base_uri": "https://localhost:8080/",
          "height": 297
        },
        "outputId": "592c7b13-e8f3-44f5-b314-1b4311f9bfdf"
      },
      "execution_count": 5,
      "outputs": [
        {
          "output_type": "execute_result",
          "data": {
            "text/plain": [
              "             Player  Solo score  Solo top1  Solo kd  Solo winRatio  \\\n",
              "0       ProspÐµring     2476763       1828     4.37           18.0   \n",
              "1        BH nixxxay      439562       1694     8.71           29.1   \n",
              "2           RaÐ¿ger     4519465       4582     9.60           34.0   \n",
              "3            Idk_Pi      752869        121     0.84            3.3   \n",
              "4  Twitch.GryphonRB     1136282       1327     6.32           30.0   \n",
              "\n",
              "   Solo matches  Solo kills  Duos score  Duos top1  Duos kd  ...  Trios kd  \\\n",
              "0         10150       36328     4702684       5584    10.71  ...      6.65   \n",
              "1          5817       35895     4065613       4141     9.49  ...      8.06   \n",
              "2         13488       85481     1137279       1390     7.78  ...      4.75   \n",
              "3          3687        3005     5326457       2249     1.02  ...      1.14   \n",
              "4          4429       19591     3692623       5743    11.13  ...     24.07   \n",
              "\n",
              "   Trios winRatio  Trios matches  Trios kills  Squads score  Squads top1  \\\n",
              "0            31.2            783         3584       3640415         5116   \n",
              "1            19.0             21          137       5275367         4978   \n",
              "2            26.4           2711         9477       2745537         4435   \n",
              "3             8.6           2421         2526       1781544          336   \n",
              "4            78.5           1146         5920       2795511         3445   \n",
              "\n",
              "   Squads kd  Squads winRatio  Squads matches  Squads kills  \n",
              "0       6.88             31.7           16131         75787  \n",
              "1      10.24             30.3           16433        117327  \n",
              "2       8.40             32.9           13494         76065  \n",
              "3       0.87              4.1            8232          6892  \n",
              "4       7.58             36.2            9524         46068  \n",
              "\n",
              "[5 rows x 25 columns]"
            ],
            "text/html": [
              "\n",
              "  <div id=\"df-a225cadb-652e-44d6-bcab-2cf3b3d4e0d5\">\n",
              "    <div class=\"colab-df-container\">\n",
              "      <div>\n",
              "<style scoped>\n",
              "    .dataframe tbody tr th:only-of-type {\n",
              "        vertical-align: middle;\n",
              "    }\n",
              "\n",
              "    .dataframe tbody tr th {\n",
              "        vertical-align: top;\n",
              "    }\n",
              "\n",
              "    .dataframe thead th {\n",
              "        text-align: right;\n",
              "    }\n",
              "</style>\n",
              "<table border=\"1\" class=\"dataframe\">\n",
              "  <thead>\n",
              "    <tr style=\"text-align: right;\">\n",
              "      <th></th>\n",
              "      <th>Player</th>\n",
              "      <th>Solo score</th>\n",
              "      <th>Solo top1</th>\n",
              "      <th>Solo kd</th>\n",
              "      <th>Solo winRatio</th>\n",
              "      <th>Solo matches</th>\n",
              "      <th>Solo kills</th>\n",
              "      <th>Duos score</th>\n",
              "      <th>Duos top1</th>\n",
              "      <th>Duos kd</th>\n",
              "      <th>...</th>\n",
              "      <th>Trios kd</th>\n",
              "      <th>Trios winRatio</th>\n",
              "      <th>Trios matches</th>\n",
              "      <th>Trios kills</th>\n",
              "      <th>Squads score</th>\n",
              "      <th>Squads top1</th>\n",
              "      <th>Squads kd</th>\n",
              "      <th>Squads winRatio</th>\n",
              "      <th>Squads matches</th>\n",
              "      <th>Squads kills</th>\n",
              "    </tr>\n",
              "  </thead>\n",
              "  <tbody>\n",
              "    <tr>\n",
              "      <th>0</th>\n",
              "      <td>ProspÐµring</td>\n",
              "      <td>2476763</td>\n",
              "      <td>1828</td>\n",
              "      <td>4.37</td>\n",
              "      <td>18.0</td>\n",
              "      <td>10150</td>\n",
              "      <td>36328</td>\n",
              "      <td>4702684</td>\n",
              "      <td>5584</td>\n",
              "      <td>10.71</td>\n",
              "      <td>...</td>\n",
              "      <td>6.65</td>\n",
              "      <td>31.2</td>\n",
              "      <td>783</td>\n",
              "      <td>3584</td>\n",
              "      <td>3640415</td>\n",
              "      <td>5116</td>\n",
              "      <td>6.88</td>\n",
              "      <td>31.7</td>\n",
              "      <td>16131</td>\n",
              "      <td>75787</td>\n",
              "    </tr>\n",
              "    <tr>\n",
              "      <th>1</th>\n",
              "      <td>BH nixxxay</td>\n",
              "      <td>439562</td>\n",
              "      <td>1694</td>\n",
              "      <td>8.71</td>\n",
              "      <td>29.1</td>\n",
              "      <td>5817</td>\n",
              "      <td>35895</td>\n",
              "      <td>4065613</td>\n",
              "      <td>4141</td>\n",
              "      <td>9.49</td>\n",
              "      <td>...</td>\n",
              "      <td>8.06</td>\n",
              "      <td>19.0</td>\n",
              "      <td>21</td>\n",
              "      <td>137</td>\n",
              "      <td>5275367</td>\n",
              "      <td>4978</td>\n",
              "      <td>10.24</td>\n",
              "      <td>30.3</td>\n",
              "      <td>16433</td>\n",
              "      <td>117327</td>\n",
              "    </tr>\n",
              "    <tr>\n",
              "      <th>2</th>\n",
              "      <td>RaÐ¿ger</td>\n",
              "      <td>4519465</td>\n",
              "      <td>4582</td>\n",
              "      <td>9.60</td>\n",
              "      <td>34.0</td>\n",
              "      <td>13488</td>\n",
              "      <td>85481</td>\n",
              "      <td>1137279</td>\n",
              "      <td>1390</td>\n",
              "      <td>7.78</td>\n",
              "      <td>...</td>\n",
              "      <td>4.75</td>\n",
              "      <td>26.4</td>\n",
              "      <td>2711</td>\n",
              "      <td>9477</td>\n",
              "      <td>2745537</td>\n",
              "      <td>4435</td>\n",
              "      <td>8.40</td>\n",
              "      <td>32.9</td>\n",
              "      <td>13494</td>\n",
              "      <td>76065</td>\n",
              "    </tr>\n",
              "    <tr>\n",
              "      <th>3</th>\n",
              "      <td>Idk_Pi</td>\n",
              "      <td>752869</td>\n",
              "      <td>121</td>\n",
              "      <td>0.84</td>\n",
              "      <td>3.3</td>\n",
              "      <td>3687</td>\n",
              "      <td>3005</td>\n",
              "      <td>5326457</td>\n",
              "      <td>2249</td>\n",
              "      <td>1.02</td>\n",
              "      <td>...</td>\n",
              "      <td>1.14</td>\n",
              "      <td>8.6</td>\n",
              "      <td>2421</td>\n",
              "      <td>2526</td>\n",
              "      <td>1781544</td>\n",
              "      <td>336</td>\n",
              "      <td>0.87</td>\n",
              "      <td>4.1</td>\n",
              "      <td>8232</td>\n",
              "      <td>6892</td>\n",
              "    </tr>\n",
              "    <tr>\n",
              "      <th>4</th>\n",
              "      <td>Twitch.GryphonRB</td>\n",
              "      <td>1136282</td>\n",
              "      <td>1327</td>\n",
              "      <td>6.32</td>\n",
              "      <td>30.0</td>\n",
              "      <td>4429</td>\n",
              "      <td>19591</td>\n",
              "      <td>3692623</td>\n",
              "      <td>5743</td>\n",
              "      <td>11.13</td>\n",
              "      <td>...</td>\n",
              "      <td>24.07</td>\n",
              "      <td>78.5</td>\n",
              "      <td>1146</td>\n",
              "      <td>5920</td>\n",
              "      <td>2795511</td>\n",
              "      <td>3445</td>\n",
              "      <td>7.58</td>\n",
              "      <td>36.2</td>\n",
              "      <td>9524</td>\n",
              "      <td>46068</td>\n",
              "    </tr>\n",
              "  </tbody>\n",
              "</table>\n",
              "<p>5 rows × 25 columns</p>\n",
              "</div>\n",
              "      <button class=\"colab-df-convert\" onclick=\"convertToInteractive('df-a225cadb-652e-44d6-bcab-2cf3b3d4e0d5')\"\n",
              "              title=\"Convert this dataframe to an interactive table.\"\n",
              "              style=\"display:none;\">\n",
              "        \n",
              "  <svg xmlns=\"http://www.w3.org/2000/svg\" height=\"24px\"viewBox=\"0 0 24 24\"\n",
              "       width=\"24px\">\n",
              "    <path d=\"M0 0h24v24H0V0z\" fill=\"none\"/>\n",
              "    <path d=\"M18.56 5.44l.94 2.06.94-2.06 2.06-.94-2.06-.94-.94-2.06-.94 2.06-2.06.94zm-11 1L8.5 8.5l.94-2.06 2.06-.94-2.06-.94L8.5 2.5l-.94 2.06-2.06.94zm10 10l.94 2.06.94-2.06 2.06-.94-2.06-.94-.94-2.06-.94 2.06-2.06.94z\"/><path d=\"M17.41 7.96l-1.37-1.37c-.4-.4-.92-.59-1.43-.59-.52 0-1.04.2-1.43.59L10.3 9.45l-7.72 7.72c-.78.78-.78 2.05 0 2.83L4 21.41c.39.39.9.59 1.41.59.51 0 1.02-.2 1.41-.59l7.78-7.78 2.81-2.81c.8-.78.8-2.07 0-2.86zM5.41 20L4 18.59l7.72-7.72 1.47 1.35L5.41 20z\"/>\n",
              "  </svg>\n",
              "      </button>\n",
              "      \n",
              "  <style>\n",
              "    .colab-df-container {\n",
              "      display:flex;\n",
              "      flex-wrap:wrap;\n",
              "      gap: 12px;\n",
              "    }\n",
              "\n",
              "    .colab-df-convert {\n",
              "      background-color: #E8F0FE;\n",
              "      border: none;\n",
              "      border-radius: 50%;\n",
              "      cursor: pointer;\n",
              "      display: none;\n",
              "      fill: #1967D2;\n",
              "      height: 32px;\n",
              "      padding: 0 0 0 0;\n",
              "      width: 32px;\n",
              "    }\n",
              "\n",
              "    .colab-df-convert:hover {\n",
              "      background-color: #E2EBFA;\n",
              "      box-shadow: 0px 1px 2px rgba(60, 64, 67, 0.3), 0px 1px 3px 1px rgba(60, 64, 67, 0.15);\n",
              "      fill: #174EA6;\n",
              "    }\n",
              "\n",
              "    [theme=dark] .colab-df-convert {\n",
              "      background-color: #3B4455;\n",
              "      fill: #D2E3FC;\n",
              "    }\n",
              "\n",
              "    [theme=dark] .colab-df-convert:hover {\n",
              "      background-color: #434B5C;\n",
              "      box-shadow: 0px 1px 3px 1px rgba(0, 0, 0, 0.15);\n",
              "      filter: drop-shadow(0px 1px 2px rgba(0, 0, 0, 0.3));\n",
              "      fill: #FFFFFF;\n",
              "    }\n",
              "  </style>\n",
              "\n",
              "      <script>\n",
              "        const buttonEl =\n",
              "          document.querySelector('#df-a225cadb-652e-44d6-bcab-2cf3b3d4e0d5 button.colab-df-convert');\n",
              "        buttonEl.style.display =\n",
              "          google.colab.kernel.accessAllowed ? 'block' : 'none';\n",
              "\n",
              "        async function convertToInteractive(key) {\n",
              "          const element = document.querySelector('#df-a225cadb-652e-44d6-bcab-2cf3b3d4e0d5');\n",
              "          const dataTable =\n",
              "            await google.colab.kernel.invokeFunction('convertToInteractive',\n",
              "                                                     [key], {});\n",
              "          if (!dataTable) return;\n",
              "\n",
              "          const docLinkHtml = 'Like what you see? Visit the ' +\n",
              "            '<a target=\"_blank\" href=https://colab.research.google.com/notebooks/data_table.ipynb>data table notebook</a>'\n",
              "            + ' to learn more about interactive tables.';\n",
              "          element.innerHTML = '';\n",
              "          dataTable['output_type'] = 'display_data';\n",
              "          await google.colab.output.renderOutput(dataTable, element);\n",
              "          const docLink = document.createElement('div');\n",
              "          docLink.innerHTML = docLinkHtml;\n",
              "          element.appendChild(docLink);\n",
              "        }\n",
              "      </script>\n",
              "    </div>\n",
              "  </div>\n",
              "  "
            ]
          },
          "metadata": {},
          "execution_count": 5
        }
      ]
    },
    {
      "cell_type": "code",
      "source": [
        "fortnite_data.tail()"
      ],
      "metadata": {
        "id": "On-a3QR_aotp",
        "colab": {
          "base_uri": "https://localhost:8080/",
          "height": 383
        },
        "outputId": "6bd4e10b-faec-44c1-fad7-ccd1e08fc6cc"
      },
      "execution_count": 6,
      "outputs": [
        {
          "output_type": "execute_result",
          "data": {
            "text/plain": [
              "             Player  Solo score  Solo top1  Solo kd  Solo winRatio  \\\n",
              "1406       im bloom      106294         26     2.03            3.5   \n",
              "1407  Twitch kaOzs_      803918        396     3.42           13.2   \n",
              "1408        slxyher      603939        310     1.69            5.1   \n",
              "1409      RD-Antony      747295         71     1.10            1.9   \n",
              "1410   O-HO-HO-HOÇƒ     1378689        161     1.68            2.3   \n",
              "\n",
              "      Solo matches  Solo kills  Duos score  Duos top1  Duos kd  ...  Trios kd  \\\n",
              "1406           736        1440     2208424       1551     2.53  ...      2.30   \n",
              "1407          3001        8911      890900        739     2.88  ...      2.43   \n",
              "1408          6035        9679      432952        442     1.90  ...      2.57   \n",
              "1409          3763        4048     1010165        851     5.23  ...      6.94   \n",
              "1410          7105       11661      305715        128     2.82  ...      2.34   \n",
              "\n",
              "      Trios winRatio  Trios matches  Trios kills  Squads score  Squads top1  \\\n",
              "1406             4.4           1284         2822        599549          321   \n",
              "1407            12.4           1826         3890       1000305          491   \n",
              "1408             8.0            741         1753       2018306         1367   \n",
              "1409            35.3            156          701       1392629          904   \n",
              "1410             8.1           1450         3122       1158340          380   \n",
              "\n",
              "      Squads kd  Squads winRatio  Squads matches  Squads kills  \n",
              "1406       2.86              7.8            4117         10842  \n",
              "1407       2.91             10.2            4837         12628  \n",
              "1408       3.34             15.1            9046         25626  \n",
              "1409       3.30             16.5            5475         15107  \n",
              "1410       2.87              8.2            4657         12259  \n",
              "\n",
              "[5 rows x 25 columns]"
            ],
            "text/html": [
              "\n",
              "  <div id=\"df-72abff07-a872-4cfe-a570-19deed3b3808\">\n",
              "    <div class=\"colab-df-container\">\n",
              "      <div>\n",
              "<style scoped>\n",
              "    .dataframe tbody tr th:only-of-type {\n",
              "        vertical-align: middle;\n",
              "    }\n",
              "\n",
              "    .dataframe tbody tr th {\n",
              "        vertical-align: top;\n",
              "    }\n",
              "\n",
              "    .dataframe thead th {\n",
              "        text-align: right;\n",
              "    }\n",
              "</style>\n",
              "<table border=\"1\" class=\"dataframe\">\n",
              "  <thead>\n",
              "    <tr style=\"text-align: right;\">\n",
              "      <th></th>\n",
              "      <th>Player</th>\n",
              "      <th>Solo score</th>\n",
              "      <th>Solo top1</th>\n",
              "      <th>Solo kd</th>\n",
              "      <th>Solo winRatio</th>\n",
              "      <th>Solo matches</th>\n",
              "      <th>Solo kills</th>\n",
              "      <th>Duos score</th>\n",
              "      <th>Duos top1</th>\n",
              "      <th>Duos kd</th>\n",
              "      <th>...</th>\n",
              "      <th>Trios kd</th>\n",
              "      <th>Trios winRatio</th>\n",
              "      <th>Trios matches</th>\n",
              "      <th>Trios kills</th>\n",
              "      <th>Squads score</th>\n",
              "      <th>Squads top1</th>\n",
              "      <th>Squads kd</th>\n",
              "      <th>Squads winRatio</th>\n",
              "      <th>Squads matches</th>\n",
              "      <th>Squads kills</th>\n",
              "    </tr>\n",
              "  </thead>\n",
              "  <tbody>\n",
              "    <tr>\n",
              "      <th>1406</th>\n",
              "      <td>im bloom</td>\n",
              "      <td>106294</td>\n",
              "      <td>26</td>\n",
              "      <td>2.03</td>\n",
              "      <td>3.5</td>\n",
              "      <td>736</td>\n",
              "      <td>1440</td>\n",
              "      <td>2208424</td>\n",
              "      <td>1551</td>\n",
              "      <td>2.53</td>\n",
              "      <td>...</td>\n",
              "      <td>2.30</td>\n",
              "      <td>4.4</td>\n",
              "      <td>1284</td>\n",
              "      <td>2822</td>\n",
              "      <td>599549</td>\n",
              "      <td>321</td>\n",
              "      <td>2.86</td>\n",
              "      <td>7.8</td>\n",
              "      <td>4117</td>\n",
              "      <td>10842</td>\n",
              "    </tr>\n",
              "    <tr>\n",
              "      <th>1407</th>\n",
              "      <td>Twitch kaOzs_</td>\n",
              "      <td>803918</td>\n",
              "      <td>396</td>\n",
              "      <td>3.42</td>\n",
              "      <td>13.2</td>\n",
              "      <td>3001</td>\n",
              "      <td>8911</td>\n",
              "      <td>890900</td>\n",
              "      <td>739</td>\n",
              "      <td>2.88</td>\n",
              "      <td>...</td>\n",
              "      <td>2.43</td>\n",
              "      <td>12.4</td>\n",
              "      <td>1826</td>\n",
              "      <td>3890</td>\n",
              "      <td>1000305</td>\n",
              "      <td>491</td>\n",
              "      <td>2.91</td>\n",
              "      <td>10.2</td>\n",
              "      <td>4837</td>\n",
              "      <td>12628</td>\n",
              "    </tr>\n",
              "    <tr>\n",
              "      <th>1408</th>\n",
              "      <td>slxyher</td>\n",
              "      <td>603939</td>\n",
              "      <td>310</td>\n",
              "      <td>1.69</td>\n",
              "      <td>5.1</td>\n",
              "      <td>6035</td>\n",
              "      <td>9679</td>\n",
              "      <td>432952</td>\n",
              "      <td>442</td>\n",
              "      <td>1.90</td>\n",
              "      <td>...</td>\n",
              "      <td>2.57</td>\n",
              "      <td>8.0</td>\n",
              "      <td>741</td>\n",
              "      <td>1753</td>\n",
              "      <td>2018306</td>\n",
              "      <td>1367</td>\n",
              "      <td>3.34</td>\n",
              "      <td>15.1</td>\n",
              "      <td>9046</td>\n",
              "      <td>25626</td>\n",
              "    </tr>\n",
              "    <tr>\n",
              "      <th>1409</th>\n",
              "      <td>RD-Antony</td>\n",
              "      <td>747295</td>\n",
              "      <td>71</td>\n",
              "      <td>1.10</td>\n",
              "      <td>1.9</td>\n",
              "      <td>3763</td>\n",
              "      <td>4048</td>\n",
              "      <td>1010165</td>\n",
              "      <td>851</td>\n",
              "      <td>5.23</td>\n",
              "      <td>...</td>\n",
              "      <td>6.94</td>\n",
              "      <td>35.3</td>\n",
              "      <td>156</td>\n",
              "      <td>701</td>\n",
              "      <td>1392629</td>\n",
              "      <td>904</td>\n",
              "      <td>3.30</td>\n",
              "      <td>16.5</td>\n",
              "      <td>5475</td>\n",
              "      <td>15107</td>\n",
              "    </tr>\n",
              "    <tr>\n",
              "      <th>1410</th>\n",
              "      <td>O-HO-HO-HOÇƒ</td>\n",
              "      <td>1378689</td>\n",
              "      <td>161</td>\n",
              "      <td>1.68</td>\n",
              "      <td>2.3</td>\n",
              "      <td>7105</td>\n",
              "      <td>11661</td>\n",
              "      <td>305715</td>\n",
              "      <td>128</td>\n",
              "      <td>2.82</td>\n",
              "      <td>...</td>\n",
              "      <td>2.34</td>\n",
              "      <td>8.1</td>\n",
              "      <td>1450</td>\n",
              "      <td>3122</td>\n",
              "      <td>1158340</td>\n",
              "      <td>380</td>\n",
              "      <td>2.87</td>\n",
              "      <td>8.2</td>\n",
              "      <td>4657</td>\n",
              "      <td>12259</td>\n",
              "    </tr>\n",
              "  </tbody>\n",
              "</table>\n",
              "<p>5 rows × 25 columns</p>\n",
              "</div>\n",
              "      <button class=\"colab-df-convert\" onclick=\"convertToInteractive('df-72abff07-a872-4cfe-a570-19deed3b3808')\"\n",
              "              title=\"Convert this dataframe to an interactive table.\"\n",
              "              style=\"display:none;\">\n",
              "        \n",
              "  <svg xmlns=\"http://www.w3.org/2000/svg\" height=\"24px\"viewBox=\"0 0 24 24\"\n",
              "       width=\"24px\">\n",
              "    <path d=\"M0 0h24v24H0V0z\" fill=\"none\"/>\n",
              "    <path d=\"M18.56 5.44l.94 2.06.94-2.06 2.06-.94-2.06-.94-.94-2.06-.94 2.06-2.06.94zm-11 1L8.5 8.5l.94-2.06 2.06-.94-2.06-.94L8.5 2.5l-.94 2.06-2.06.94zm10 10l.94 2.06.94-2.06 2.06-.94-2.06-.94-.94-2.06-.94 2.06-2.06.94z\"/><path d=\"M17.41 7.96l-1.37-1.37c-.4-.4-.92-.59-1.43-.59-.52 0-1.04.2-1.43.59L10.3 9.45l-7.72 7.72c-.78.78-.78 2.05 0 2.83L4 21.41c.39.39.9.59 1.41.59.51 0 1.02-.2 1.41-.59l7.78-7.78 2.81-2.81c.8-.78.8-2.07 0-2.86zM5.41 20L4 18.59l7.72-7.72 1.47 1.35L5.41 20z\"/>\n",
              "  </svg>\n",
              "      </button>\n",
              "      \n",
              "  <style>\n",
              "    .colab-df-container {\n",
              "      display:flex;\n",
              "      flex-wrap:wrap;\n",
              "      gap: 12px;\n",
              "    }\n",
              "\n",
              "    .colab-df-convert {\n",
              "      background-color: #E8F0FE;\n",
              "      border: none;\n",
              "      border-radius: 50%;\n",
              "      cursor: pointer;\n",
              "      display: none;\n",
              "      fill: #1967D2;\n",
              "      height: 32px;\n",
              "      padding: 0 0 0 0;\n",
              "      width: 32px;\n",
              "    }\n",
              "\n",
              "    .colab-df-convert:hover {\n",
              "      background-color: #E2EBFA;\n",
              "      box-shadow: 0px 1px 2px rgba(60, 64, 67, 0.3), 0px 1px 3px 1px rgba(60, 64, 67, 0.15);\n",
              "      fill: #174EA6;\n",
              "    }\n",
              "\n",
              "    [theme=dark] .colab-df-convert {\n",
              "      background-color: #3B4455;\n",
              "      fill: #D2E3FC;\n",
              "    }\n",
              "\n",
              "    [theme=dark] .colab-df-convert:hover {\n",
              "      background-color: #434B5C;\n",
              "      box-shadow: 0px 1px 3px 1px rgba(0, 0, 0, 0.15);\n",
              "      filter: drop-shadow(0px 1px 2px rgba(0, 0, 0, 0.3));\n",
              "      fill: #FFFFFF;\n",
              "    }\n",
              "  </style>\n",
              "\n",
              "      <script>\n",
              "        const buttonEl =\n",
              "          document.querySelector('#df-72abff07-a872-4cfe-a570-19deed3b3808 button.colab-df-convert');\n",
              "        buttonEl.style.display =\n",
              "          google.colab.kernel.accessAllowed ? 'block' : 'none';\n",
              "\n",
              "        async function convertToInteractive(key) {\n",
              "          const element = document.querySelector('#df-72abff07-a872-4cfe-a570-19deed3b3808');\n",
              "          const dataTable =\n",
              "            await google.colab.kernel.invokeFunction('convertToInteractive',\n",
              "                                                     [key], {});\n",
              "          if (!dataTable) return;\n",
              "\n",
              "          const docLinkHtml = 'Like what you see? Visit the ' +\n",
              "            '<a target=\"_blank\" href=https://colab.research.google.com/notebooks/data_table.ipynb>data table notebook</a>'\n",
              "            + ' to learn more about interactive tables.';\n",
              "          element.innerHTML = '';\n",
              "          dataTable['output_type'] = 'display_data';\n",
              "          await google.colab.output.renderOutput(dataTable, element);\n",
              "          const docLink = document.createElement('div');\n",
              "          docLink.innerHTML = docLinkHtml;\n",
              "          element.appendChild(docLink);\n",
              "        }\n",
              "      </script>\n",
              "    </div>\n",
              "  </div>\n",
              "  "
            ]
          },
          "metadata": {},
          "execution_count": 6
        }
      ]
    },
    {
      "cell_type": "code",
      "source": [
        "fortnite_data.shape"
      ],
      "metadata": {
        "id": "hQLHSHwiat-o",
        "colab": {
          "base_uri": "https://localhost:8080/"
        },
        "outputId": "d8125aa2-ccab-4292-99b5-2214010968f3"
      },
      "execution_count": 7,
      "outputs": [
        {
          "output_type": "execute_result",
          "data": {
            "text/plain": [
              "(1411, 25)"
            ]
          },
          "metadata": {},
          "execution_count": 7
        }
      ]
    },
    {
      "cell_type": "code",
      "source": [
        "fortnite_data.info()"
      ],
      "metadata": {
        "id": "6zu2OrcYa1XO",
        "colab": {
          "base_uri": "https://localhost:8080/"
        },
        "outputId": "e5182da5-a899-4229-839e-62d835fb2ad1"
      },
      "execution_count": 8,
      "outputs": [
        {
          "output_type": "stream",
          "name": "stdout",
          "text": [
            "<class 'pandas.core.frame.DataFrame'>\n",
            "RangeIndex: 1411 entries, 0 to 1410\n",
            "Data columns (total 25 columns):\n",
            " #   Column           Non-Null Count  Dtype  \n",
            "---  ------           --------------  -----  \n",
            " 0   Player           1411 non-null   object \n",
            " 1   Solo score       1411 non-null   int64  \n",
            " 2   Solo top1        1411 non-null   int64  \n",
            " 3   Solo kd          1411 non-null   float64\n",
            " 4   Solo winRatio    1411 non-null   float64\n",
            " 5   Solo matches     1411 non-null   int64  \n",
            " 6   Solo kills       1411 non-null   int64  \n",
            " 7   Duos score       1411 non-null   int64  \n",
            " 8   Duos top1        1411 non-null   int64  \n",
            " 9   Duos kd          1411 non-null   float64\n",
            " 10  Duos winRatio    1411 non-null   float64\n",
            " 11  Duos matches     1411 non-null   int64  \n",
            " 12  Duos kills       1411 non-null   int64  \n",
            " 13  Trios score      1411 non-null   int64  \n",
            " 14  Trios top1       1411 non-null   int64  \n",
            " 15  Trios kd         1411 non-null   float64\n",
            " 16  Trios winRatio   1411 non-null   float64\n",
            " 17  Trios matches    1411 non-null   int64  \n",
            " 18  Trios kills      1411 non-null   int64  \n",
            " 19  Squads score     1411 non-null   int64  \n",
            " 20  Squads top1      1411 non-null   int64  \n",
            " 21  Squads kd        1411 non-null   float64\n",
            " 22  Squads winRatio  1411 non-null   float64\n",
            " 23  Squads matches   1411 non-null   int64  \n",
            " 24  Squads kills     1411 non-null   int64  \n",
            "dtypes: float64(8), int64(16), object(1)\n",
            "memory usage: 275.7+ KB\n"
          ]
        }
      ]
    },
    {
      "cell_type": "code",
      "source": [
        "fortnite_data.isnull().sum()"
      ],
      "metadata": {
        "id": "j8DVHyDda4eJ",
        "colab": {
          "base_uri": "https://localhost:8080/"
        },
        "outputId": "930c0e11-e52e-43f0-a552-63fe84dd5810"
      },
      "execution_count": 9,
      "outputs": [
        {
          "output_type": "execute_result",
          "data": {
            "text/plain": [
              "Player             0\n",
              "Solo score         0\n",
              "Solo top1          0\n",
              "Solo kd            0\n",
              "Solo winRatio      0\n",
              "Solo matches       0\n",
              "Solo kills         0\n",
              "Duos score         0\n",
              "Duos top1          0\n",
              "Duos kd            0\n",
              "Duos winRatio      0\n",
              "Duos matches       0\n",
              "Duos kills         0\n",
              "Trios score        0\n",
              "Trios top1         0\n",
              "Trios kd           0\n",
              "Trios winRatio     0\n",
              "Trios matches      0\n",
              "Trios kills        0\n",
              "Squads score       0\n",
              "Squads top1        0\n",
              "Squads kd          0\n",
              "Squads winRatio    0\n",
              "Squads matches     0\n",
              "Squads kills       0\n",
              "dtype: int64"
            ]
          },
          "metadata": {},
          "execution_count": 9
        }
      ]
    },
    {
      "cell_type": "code",
      "source": [
        "fortnite_data.describe()"
      ],
      "metadata": {
        "id": "NxXLzzXobDvd",
        "colab": {
          "base_uri": "https://localhost:8080/",
          "height": 411
        },
        "outputId": "35e28f67-17dd-4e84-b205-4fb728dc9eb9"
      },
      "execution_count": 10,
      "outputs": [
        {
          "output_type": "execute_result",
          "data": {
            "text/plain": [
              "         Solo score    Solo top1      Solo kd  Solo winRatio  Solo matches  \\\n",
              "count  1.411000e+03  1411.000000  1411.000000    1411.000000   1411.000000   \n",
              "mean   1.074535e+06   325.347980     1.815620       4.845641   6833.064493   \n",
              "std    8.661136e+05   517.662948     1.157741       5.303791   5308.828251   \n",
              "min    4.453000e+03     0.000000     0.080000       0.000000     30.000000   \n",
              "25%    4.355170e+05    65.000000     1.050000       1.600000   2860.500000   \n",
              "50%    8.991010e+05   160.000000     1.480000       2.900000   5683.000000   \n",
              "75%    1.496288e+06   363.500000     2.195000       6.100000   9520.500000   \n",
              "max    6.772116e+06  6480.000000     9.600000      44.100000  36487.000000   \n",
              "\n",
              "         Solo kills    Duos score    Duos top1      Duos kd  Duos winRatio  \\\n",
              "count   1411.000000  1.411000e+03  1411.000000  1411.000000    1411.000000   \n",
              "mean   11709.965273  1.401017e+06   837.332388     2.486960      11.218285   \n",
              "std    11436.919975  9.802145e+05   726.787557     1.596519       7.407604   \n",
              "min       28.000000  6.106000e+03     0.000000     0.080000       0.000000   \n",
              "25%     3777.500000  5.887485e+05   324.500000     1.400000       6.000000   \n",
              "50%     8353.000000  1.186470e+06   686.000000     2.090000       9.600000   \n",
              "75%    15788.500000  1.997756e+06  1098.000000     3.040000      14.500000   \n",
              "max    89023.000000  6.438735e+06  7594.000000    14.000000      56.200000   \n",
              "\n",
              "       ...     Trios kd  Trios winRatio  Trios matches   Trios kills  \\\n",
              "count  ...  1411.000000     1411.000000    1411.000000   1411.000000   \n",
              "mean   ...     2.454826       10.355067    1317.708717   2765.390503   \n",
              "std    ...     1.762049        8.057136    1061.394235   2570.721326   \n",
              "min    ...     0.000000        0.000000       1.000000      0.000000   \n",
              "25%    ...     1.500000        5.300000     515.500000    908.500000   \n",
              "50%    ...     2.100000        8.400000    1032.000000   2048.000000   \n",
              "75%    ...     2.910000       12.800000    1890.000000   3857.500000   \n",
              "max    ...    24.070000       78.500000    6441.000000  16021.000000   \n",
              "\n",
              "       Squads score  Squads top1    Squads kd  Squads winRatio  \\\n",
              "count  1.411000e+03  1411.000000  1411.000000      1411.000000   \n",
              "mean   1.036656e+06   418.593905     2.055245         7.050886   \n",
              "std    5.148333e+05   419.426561     1.185026         5.671649   \n",
              "min    2.819000e+03     0.000000     0.170000         0.000000   \n",
              "25%    7.147400e+05   172.000000     1.230000         3.200000   \n",
              "50%    9.934750e+05   311.000000     1.760000         5.300000   \n",
              "75%    1.304656e+06   533.000000     2.510000         9.050000   \n",
              "max    5.275367e+06  5116.000000    10.240000        39.300000   \n",
              "\n",
              "       Squads matches   Squads kills  \n",
              "count     1411.000000    1411.000000  \n",
              "mean      6078.072289   11427.000709  \n",
              "std       3094.949156    8354.029850  \n",
              "min         33.000000      35.000000  \n",
              "25%       3994.000000    5741.500000  \n",
              "50%       5740.000000    9747.000000  \n",
              "75%       7781.000000   15065.000000  \n",
              "max      28805.000000  117327.000000  \n",
              "\n",
              "[8 rows x 24 columns]"
            ],
            "text/html": [
              "\n",
              "  <div id=\"df-3ebb5dc8-f118-49e5-9d64-f7df2b17400c\">\n",
              "    <div class=\"colab-df-container\">\n",
              "      <div>\n",
              "<style scoped>\n",
              "    .dataframe tbody tr th:only-of-type {\n",
              "        vertical-align: middle;\n",
              "    }\n",
              "\n",
              "    .dataframe tbody tr th {\n",
              "        vertical-align: top;\n",
              "    }\n",
              "\n",
              "    .dataframe thead th {\n",
              "        text-align: right;\n",
              "    }\n",
              "</style>\n",
              "<table border=\"1\" class=\"dataframe\">\n",
              "  <thead>\n",
              "    <tr style=\"text-align: right;\">\n",
              "      <th></th>\n",
              "      <th>Solo score</th>\n",
              "      <th>Solo top1</th>\n",
              "      <th>Solo kd</th>\n",
              "      <th>Solo winRatio</th>\n",
              "      <th>Solo matches</th>\n",
              "      <th>Solo kills</th>\n",
              "      <th>Duos score</th>\n",
              "      <th>Duos top1</th>\n",
              "      <th>Duos kd</th>\n",
              "      <th>Duos winRatio</th>\n",
              "      <th>...</th>\n",
              "      <th>Trios kd</th>\n",
              "      <th>Trios winRatio</th>\n",
              "      <th>Trios matches</th>\n",
              "      <th>Trios kills</th>\n",
              "      <th>Squads score</th>\n",
              "      <th>Squads top1</th>\n",
              "      <th>Squads kd</th>\n",
              "      <th>Squads winRatio</th>\n",
              "      <th>Squads matches</th>\n",
              "      <th>Squads kills</th>\n",
              "    </tr>\n",
              "  </thead>\n",
              "  <tbody>\n",
              "    <tr>\n",
              "      <th>count</th>\n",
              "      <td>1.411000e+03</td>\n",
              "      <td>1411.000000</td>\n",
              "      <td>1411.000000</td>\n",
              "      <td>1411.000000</td>\n",
              "      <td>1411.000000</td>\n",
              "      <td>1411.000000</td>\n",
              "      <td>1.411000e+03</td>\n",
              "      <td>1411.000000</td>\n",
              "      <td>1411.000000</td>\n",
              "      <td>1411.000000</td>\n",
              "      <td>...</td>\n",
              "      <td>1411.000000</td>\n",
              "      <td>1411.000000</td>\n",
              "      <td>1411.000000</td>\n",
              "      <td>1411.000000</td>\n",
              "      <td>1.411000e+03</td>\n",
              "      <td>1411.000000</td>\n",
              "      <td>1411.000000</td>\n",
              "      <td>1411.000000</td>\n",
              "      <td>1411.000000</td>\n",
              "      <td>1411.000000</td>\n",
              "    </tr>\n",
              "    <tr>\n",
              "      <th>mean</th>\n",
              "      <td>1.074535e+06</td>\n",
              "      <td>325.347980</td>\n",
              "      <td>1.815620</td>\n",
              "      <td>4.845641</td>\n",
              "      <td>6833.064493</td>\n",
              "      <td>11709.965273</td>\n",
              "      <td>1.401017e+06</td>\n",
              "      <td>837.332388</td>\n",
              "      <td>2.486960</td>\n",
              "      <td>11.218285</td>\n",
              "      <td>...</td>\n",
              "      <td>2.454826</td>\n",
              "      <td>10.355067</td>\n",
              "      <td>1317.708717</td>\n",
              "      <td>2765.390503</td>\n",
              "      <td>1.036656e+06</td>\n",
              "      <td>418.593905</td>\n",
              "      <td>2.055245</td>\n",
              "      <td>7.050886</td>\n",
              "      <td>6078.072289</td>\n",
              "      <td>11427.000709</td>\n",
              "    </tr>\n",
              "    <tr>\n",
              "      <th>std</th>\n",
              "      <td>8.661136e+05</td>\n",
              "      <td>517.662948</td>\n",
              "      <td>1.157741</td>\n",
              "      <td>5.303791</td>\n",
              "      <td>5308.828251</td>\n",
              "      <td>11436.919975</td>\n",
              "      <td>9.802145e+05</td>\n",
              "      <td>726.787557</td>\n",
              "      <td>1.596519</td>\n",
              "      <td>7.407604</td>\n",
              "      <td>...</td>\n",
              "      <td>1.762049</td>\n",
              "      <td>8.057136</td>\n",
              "      <td>1061.394235</td>\n",
              "      <td>2570.721326</td>\n",
              "      <td>5.148333e+05</td>\n",
              "      <td>419.426561</td>\n",
              "      <td>1.185026</td>\n",
              "      <td>5.671649</td>\n",
              "      <td>3094.949156</td>\n",
              "      <td>8354.029850</td>\n",
              "    </tr>\n",
              "    <tr>\n",
              "      <th>min</th>\n",
              "      <td>4.453000e+03</td>\n",
              "      <td>0.000000</td>\n",
              "      <td>0.080000</td>\n",
              "      <td>0.000000</td>\n",
              "      <td>30.000000</td>\n",
              "      <td>28.000000</td>\n",
              "      <td>6.106000e+03</td>\n",
              "      <td>0.000000</td>\n",
              "      <td>0.080000</td>\n",
              "      <td>0.000000</td>\n",
              "      <td>...</td>\n",
              "      <td>0.000000</td>\n",
              "      <td>0.000000</td>\n",
              "      <td>1.000000</td>\n",
              "      <td>0.000000</td>\n",
              "      <td>2.819000e+03</td>\n",
              "      <td>0.000000</td>\n",
              "      <td>0.170000</td>\n",
              "      <td>0.000000</td>\n",
              "      <td>33.000000</td>\n",
              "      <td>35.000000</td>\n",
              "    </tr>\n",
              "    <tr>\n",
              "      <th>25%</th>\n",
              "      <td>4.355170e+05</td>\n",
              "      <td>65.000000</td>\n",
              "      <td>1.050000</td>\n",
              "      <td>1.600000</td>\n",
              "      <td>2860.500000</td>\n",
              "      <td>3777.500000</td>\n",
              "      <td>5.887485e+05</td>\n",
              "      <td>324.500000</td>\n",
              "      <td>1.400000</td>\n",
              "      <td>6.000000</td>\n",
              "      <td>...</td>\n",
              "      <td>1.500000</td>\n",
              "      <td>5.300000</td>\n",
              "      <td>515.500000</td>\n",
              "      <td>908.500000</td>\n",
              "      <td>7.147400e+05</td>\n",
              "      <td>172.000000</td>\n",
              "      <td>1.230000</td>\n",
              "      <td>3.200000</td>\n",
              "      <td>3994.000000</td>\n",
              "      <td>5741.500000</td>\n",
              "    </tr>\n",
              "    <tr>\n",
              "      <th>50%</th>\n",
              "      <td>8.991010e+05</td>\n",
              "      <td>160.000000</td>\n",
              "      <td>1.480000</td>\n",
              "      <td>2.900000</td>\n",
              "      <td>5683.000000</td>\n",
              "      <td>8353.000000</td>\n",
              "      <td>1.186470e+06</td>\n",
              "      <td>686.000000</td>\n",
              "      <td>2.090000</td>\n",
              "      <td>9.600000</td>\n",
              "      <td>...</td>\n",
              "      <td>2.100000</td>\n",
              "      <td>8.400000</td>\n",
              "      <td>1032.000000</td>\n",
              "      <td>2048.000000</td>\n",
              "      <td>9.934750e+05</td>\n",
              "      <td>311.000000</td>\n",
              "      <td>1.760000</td>\n",
              "      <td>5.300000</td>\n",
              "      <td>5740.000000</td>\n",
              "      <td>9747.000000</td>\n",
              "    </tr>\n",
              "    <tr>\n",
              "      <th>75%</th>\n",
              "      <td>1.496288e+06</td>\n",
              "      <td>363.500000</td>\n",
              "      <td>2.195000</td>\n",
              "      <td>6.100000</td>\n",
              "      <td>9520.500000</td>\n",
              "      <td>15788.500000</td>\n",
              "      <td>1.997756e+06</td>\n",
              "      <td>1098.000000</td>\n",
              "      <td>3.040000</td>\n",
              "      <td>14.500000</td>\n",
              "      <td>...</td>\n",
              "      <td>2.910000</td>\n",
              "      <td>12.800000</td>\n",
              "      <td>1890.000000</td>\n",
              "      <td>3857.500000</td>\n",
              "      <td>1.304656e+06</td>\n",
              "      <td>533.000000</td>\n",
              "      <td>2.510000</td>\n",
              "      <td>9.050000</td>\n",
              "      <td>7781.000000</td>\n",
              "      <td>15065.000000</td>\n",
              "    </tr>\n",
              "    <tr>\n",
              "      <th>max</th>\n",
              "      <td>6.772116e+06</td>\n",
              "      <td>6480.000000</td>\n",
              "      <td>9.600000</td>\n",
              "      <td>44.100000</td>\n",
              "      <td>36487.000000</td>\n",
              "      <td>89023.000000</td>\n",
              "      <td>6.438735e+06</td>\n",
              "      <td>7594.000000</td>\n",
              "      <td>14.000000</td>\n",
              "      <td>56.200000</td>\n",
              "      <td>...</td>\n",
              "      <td>24.070000</td>\n",
              "      <td>78.500000</td>\n",
              "      <td>6441.000000</td>\n",
              "      <td>16021.000000</td>\n",
              "      <td>5.275367e+06</td>\n",
              "      <td>5116.000000</td>\n",
              "      <td>10.240000</td>\n",
              "      <td>39.300000</td>\n",
              "      <td>28805.000000</td>\n",
              "      <td>117327.000000</td>\n",
              "    </tr>\n",
              "  </tbody>\n",
              "</table>\n",
              "<p>8 rows × 24 columns</p>\n",
              "</div>\n",
              "      <button class=\"colab-df-convert\" onclick=\"convertToInteractive('df-3ebb5dc8-f118-49e5-9d64-f7df2b17400c')\"\n",
              "              title=\"Convert this dataframe to an interactive table.\"\n",
              "              style=\"display:none;\">\n",
              "        \n",
              "  <svg xmlns=\"http://www.w3.org/2000/svg\" height=\"24px\"viewBox=\"0 0 24 24\"\n",
              "       width=\"24px\">\n",
              "    <path d=\"M0 0h24v24H0V0z\" fill=\"none\"/>\n",
              "    <path d=\"M18.56 5.44l.94 2.06.94-2.06 2.06-.94-2.06-.94-.94-2.06-.94 2.06-2.06.94zm-11 1L8.5 8.5l.94-2.06 2.06-.94-2.06-.94L8.5 2.5l-.94 2.06-2.06.94zm10 10l.94 2.06.94-2.06 2.06-.94-2.06-.94-.94-2.06-.94 2.06-2.06.94z\"/><path d=\"M17.41 7.96l-1.37-1.37c-.4-.4-.92-.59-1.43-.59-.52 0-1.04.2-1.43.59L10.3 9.45l-7.72 7.72c-.78.78-.78 2.05 0 2.83L4 21.41c.39.39.9.59 1.41.59.51 0 1.02-.2 1.41-.59l7.78-7.78 2.81-2.81c.8-.78.8-2.07 0-2.86zM5.41 20L4 18.59l7.72-7.72 1.47 1.35L5.41 20z\"/>\n",
              "  </svg>\n",
              "      </button>\n",
              "      \n",
              "  <style>\n",
              "    .colab-df-container {\n",
              "      display:flex;\n",
              "      flex-wrap:wrap;\n",
              "      gap: 12px;\n",
              "    }\n",
              "\n",
              "    .colab-df-convert {\n",
              "      background-color: #E8F0FE;\n",
              "      border: none;\n",
              "      border-radius: 50%;\n",
              "      cursor: pointer;\n",
              "      display: none;\n",
              "      fill: #1967D2;\n",
              "      height: 32px;\n",
              "      padding: 0 0 0 0;\n",
              "      width: 32px;\n",
              "    }\n",
              "\n",
              "    .colab-df-convert:hover {\n",
              "      background-color: #E2EBFA;\n",
              "      box-shadow: 0px 1px 2px rgba(60, 64, 67, 0.3), 0px 1px 3px 1px rgba(60, 64, 67, 0.15);\n",
              "      fill: #174EA6;\n",
              "    }\n",
              "\n",
              "    [theme=dark] .colab-df-convert {\n",
              "      background-color: #3B4455;\n",
              "      fill: #D2E3FC;\n",
              "    }\n",
              "\n",
              "    [theme=dark] .colab-df-convert:hover {\n",
              "      background-color: #434B5C;\n",
              "      box-shadow: 0px 1px 3px 1px rgba(0, 0, 0, 0.15);\n",
              "      filter: drop-shadow(0px 1px 2px rgba(0, 0, 0, 0.3));\n",
              "      fill: #FFFFFF;\n",
              "    }\n",
              "  </style>\n",
              "\n",
              "      <script>\n",
              "        const buttonEl =\n",
              "          document.querySelector('#df-3ebb5dc8-f118-49e5-9d64-f7df2b17400c button.colab-df-convert');\n",
              "        buttonEl.style.display =\n",
              "          google.colab.kernel.accessAllowed ? 'block' : 'none';\n",
              "\n",
              "        async function convertToInteractive(key) {\n",
              "          const element = document.querySelector('#df-3ebb5dc8-f118-49e5-9d64-f7df2b17400c');\n",
              "          const dataTable =\n",
              "            await google.colab.kernel.invokeFunction('convertToInteractive',\n",
              "                                                     [key], {});\n",
              "          if (!dataTable) return;\n",
              "\n",
              "          const docLinkHtml = 'Like what you see? Visit the ' +\n",
              "            '<a target=\"_blank\" href=https://colab.research.google.com/notebooks/data_table.ipynb>data table notebook</a>'\n",
              "            + ' to learn more about interactive tables.';\n",
              "          element.innerHTML = '';\n",
              "          dataTable['output_type'] = 'display_data';\n",
              "          await google.colab.output.renderOutput(dataTable, element);\n",
              "          const docLink = document.createElement('div');\n",
              "          docLink.innerHTML = docLinkHtml;\n",
              "          element.appendChild(docLink);\n",
              "        }\n",
              "      </script>\n",
              "    </div>\n",
              "  </div>\n",
              "  "
            ]
          },
          "metadata": {},
          "execution_count": 10
        }
      ]
    },
    {
      "cell_type": "code",
      "source": [
        "fortnite_Data = fortnite_data.drop(columns='Player',axis=1)"
      ],
      "metadata": {
        "id": "X4OjIh3fgeTU"
      },
      "execution_count": 11,
      "outputs": []
    },
    {
      "cell_type": "code",
      "source": [
        "print(fortnite_Data)"
      ],
      "metadata": {
        "id": "QFVYMGghlYgY",
        "colab": {
          "base_uri": "https://localhost:8080/"
        },
        "outputId": "e392ed5d-4c28-4a46-95db-bbbebdbe06ea"
      },
      "execution_count": 12,
      "outputs": [
        {
          "output_type": "stream",
          "name": "stdout",
          "text": [
            "      Solo score  Solo top1  Solo kd  Solo winRatio  Solo matches  Solo kills  \\\n",
            "0        2476763       1828     4.37           18.0         10150       36328   \n",
            "1         439562       1694     8.71           29.1          5817       35895   \n",
            "2        4519465       4582     9.60           34.0         13488       85481   \n",
            "3         752869        121     0.84            3.3          3687        3005   \n",
            "4        1136282       1327     6.32           30.0          4429       19591   \n",
            "...          ...        ...      ...            ...           ...         ...   \n",
            "1406      106294         26     2.03            3.5           736        1440   \n",
            "1407      803918        396     3.42           13.2          3001        8911   \n",
            "1408      603939        310     1.69            5.1          6035        9679   \n",
            "1409      747295         71     1.10            1.9          3763        4048   \n",
            "1410     1378689        161     1.68            2.3          7105       11661   \n",
            "\n",
            "      Duos score  Duos top1  Duos kd  Duos winRatio  ...  Trios kd  \\\n",
            "0        4702684       5584    10.71           45.7  ...      6.65   \n",
            "1        4065613       4141     9.49           21.5  ...      8.06   \n",
            "2        1137279       1390     7.78           24.6  ...      4.75   \n",
            "3        5326457       2249     1.02            9.2  ...      1.14   \n",
            "4        3692623       5743    11.13           50.6  ...     24.07   \n",
            "...          ...        ...      ...            ...  ...       ...   \n",
            "1406     2208424       1551     2.53            8.2  ...      2.30   \n",
            "1407      890900        739     2.88           11.4  ...      2.43   \n",
            "1408      432952        442     1.90            9.1  ...      2.57   \n",
            "1409     1010165        851     5.23           24.3  ...      6.94   \n",
            "1410      305715        128     2.82            9.0  ...      2.34   \n",
            "\n",
            "      Trios winRatio  Trios matches  Trios kills  Squads score  Squads top1  \\\n",
            "0               31.2            783         3584       3640415         5116   \n",
            "1               19.0             21          137       5275367         4978   \n",
            "2               26.4           2711         9477       2745537         4435   \n",
            "3                8.6           2421         2526       1781544          336   \n",
            "4               78.5           1146         5920       2795511         3445   \n",
            "...              ...            ...          ...           ...          ...   \n",
            "1406             4.4           1284         2822        599549          321   \n",
            "1407            12.4           1826         3890       1000305          491   \n",
            "1408             8.0            741         1753       2018306         1367   \n",
            "1409            35.3            156          701       1392629          904   \n",
            "1410             8.1           1450         3122       1158340          380   \n",
            "\n",
            "      Squads kd  Squads winRatio  Squads matches  Squads kills  \n",
            "0          6.88             31.7           16131         75787  \n",
            "1         10.24             30.3           16433        117327  \n",
            "2          8.40             32.9           13494         76065  \n",
            "3          0.87              4.1            8232          6892  \n",
            "4          7.58             36.2            9524         46068  \n",
            "...         ...              ...             ...           ...  \n",
            "1406       2.86              7.8            4117         10842  \n",
            "1407       2.91             10.2            4837         12628  \n",
            "1408       3.34             15.1            9046         25626  \n",
            "1409       3.30             16.5            5475         15107  \n",
            "1410       2.87              8.2            4657         12259  \n",
            "\n",
            "[1411 rows x 24 columns]\n"
          ]
        }
      ]
    },
    {
      "cell_type": "code",
      "source": [
        "Y=fortnite_Data['Solo score']\n",
        "Y.head()"
      ],
      "metadata": {
        "id": "mjt3A-4flir4",
        "colab": {
          "base_uri": "https://localhost:8080/"
        },
        "outputId": "f6cacac7-6d1a-4c48-a7a3-9ed5b4e889a2"
      },
      "execution_count": 13,
      "outputs": [
        {
          "output_type": "execute_result",
          "data": {
            "text/plain": [
              "0    2476763\n",
              "1     439562\n",
              "2    4519465\n",
              "3     752869\n",
              "4    1136282\n",
              "Name: Solo score, dtype: int64"
            ]
          },
          "metadata": {},
          "execution_count": 13
        }
      ]
    },
    {
      "cell_type": "code",
      "source": [
        "X=fortnite_Data[['Solo top1','Solo kd','Solo winRatio','Solo matches','Solo kills']]\n",
        "X.head()"
      ],
      "metadata": {
        "id": "ONpS0Tqpf53f",
        "colab": {
          "base_uri": "https://localhost:8080/",
          "height": 206
        },
        "outputId": "1aeb4402-9064-47f4-accd-add4d67faeb1"
      },
      "execution_count": 14,
      "outputs": [
        {
          "output_type": "execute_result",
          "data": {
            "text/plain": [
              "   Solo top1  Solo kd  Solo winRatio  Solo matches  Solo kills\n",
              "0       1828     4.37           18.0         10150       36328\n",
              "1       1694     8.71           29.1          5817       35895\n",
              "2       4582     9.60           34.0         13488       85481\n",
              "3        121     0.84            3.3          3687        3005\n",
              "4       1327     6.32           30.0          4429       19591"
            ],
            "text/html": [
              "\n",
              "  <div id=\"df-8e3bcb82-5061-4c05-9ec3-8e05119abde5\">\n",
              "    <div class=\"colab-df-container\">\n",
              "      <div>\n",
              "<style scoped>\n",
              "    .dataframe tbody tr th:only-of-type {\n",
              "        vertical-align: middle;\n",
              "    }\n",
              "\n",
              "    .dataframe tbody tr th {\n",
              "        vertical-align: top;\n",
              "    }\n",
              "\n",
              "    .dataframe thead th {\n",
              "        text-align: right;\n",
              "    }\n",
              "</style>\n",
              "<table border=\"1\" class=\"dataframe\">\n",
              "  <thead>\n",
              "    <tr style=\"text-align: right;\">\n",
              "      <th></th>\n",
              "      <th>Solo top1</th>\n",
              "      <th>Solo kd</th>\n",
              "      <th>Solo winRatio</th>\n",
              "      <th>Solo matches</th>\n",
              "      <th>Solo kills</th>\n",
              "    </tr>\n",
              "  </thead>\n",
              "  <tbody>\n",
              "    <tr>\n",
              "      <th>0</th>\n",
              "      <td>1828</td>\n",
              "      <td>4.37</td>\n",
              "      <td>18.0</td>\n",
              "      <td>10150</td>\n",
              "      <td>36328</td>\n",
              "    </tr>\n",
              "    <tr>\n",
              "      <th>1</th>\n",
              "      <td>1694</td>\n",
              "      <td>8.71</td>\n",
              "      <td>29.1</td>\n",
              "      <td>5817</td>\n",
              "      <td>35895</td>\n",
              "    </tr>\n",
              "    <tr>\n",
              "      <th>2</th>\n",
              "      <td>4582</td>\n",
              "      <td>9.60</td>\n",
              "      <td>34.0</td>\n",
              "      <td>13488</td>\n",
              "      <td>85481</td>\n",
              "    </tr>\n",
              "    <tr>\n",
              "      <th>3</th>\n",
              "      <td>121</td>\n",
              "      <td>0.84</td>\n",
              "      <td>3.3</td>\n",
              "      <td>3687</td>\n",
              "      <td>3005</td>\n",
              "    </tr>\n",
              "    <tr>\n",
              "      <th>4</th>\n",
              "      <td>1327</td>\n",
              "      <td>6.32</td>\n",
              "      <td>30.0</td>\n",
              "      <td>4429</td>\n",
              "      <td>19591</td>\n",
              "    </tr>\n",
              "  </tbody>\n",
              "</table>\n",
              "</div>\n",
              "      <button class=\"colab-df-convert\" onclick=\"convertToInteractive('df-8e3bcb82-5061-4c05-9ec3-8e05119abde5')\"\n",
              "              title=\"Convert this dataframe to an interactive table.\"\n",
              "              style=\"display:none;\">\n",
              "        \n",
              "  <svg xmlns=\"http://www.w3.org/2000/svg\" height=\"24px\"viewBox=\"0 0 24 24\"\n",
              "       width=\"24px\">\n",
              "    <path d=\"M0 0h24v24H0V0z\" fill=\"none\"/>\n",
              "    <path d=\"M18.56 5.44l.94 2.06.94-2.06 2.06-.94-2.06-.94-.94-2.06-.94 2.06-2.06.94zm-11 1L8.5 8.5l.94-2.06 2.06-.94-2.06-.94L8.5 2.5l-.94 2.06-2.06.94zm10 10l.94 2.06.94-2.06 2.06-.94-2.06-.94-.94-2.06-.94 2.06-2.06.94z\"/><path d=\"M17.41 7.96l-1.37-1.37c-.4-.4-.92-.59-1.43-.59-.52 0-1.04.2-1.43.59L10.3 9.45l-7.72 7.72c-.78.78-.78 2.05 0 2.83L4 21.41c.39.39.9.59 1.41.59.51 0 1.02-.2 1.41-.59l7.78-7.78 2.81-2.81c.8-.78.8-2.07 0-2.86zM5.41 20L4 18.59l7.72-7.72 1.47 1.35L5.41 20z\"/>\n",
              "  </svg>\n",
              "      </button>\n",
              "      \n",
              "  <style>\n",
              "    .colab-df-container {\n",
              "      display:flex;\n",
              "      flex-wrap:wrap;\n",
              "      gap: 12px;\n",
              "    }\n",
              "\n",
              "    .colab-df-convert {\n",
              "      background-color: #E8F0FE;\n",
              "      border: none;\n",
              "      border-radius: 50%;\n",
              "      cursor: pointer;\n",
              "      display: none;\n",
              "      fill: #1967D2;\n",
              "      height: 32px;\n",
              "      padding: 0 0 0 0;\n",
              "      width: 32px;\n",
              "    }\n",
              "\n",
              "    .colab-df-convert:hover {\n",
              "      background-color: #E2EBFA;\n",
              "      box-shadow: 0px 1px 2px rgba(60, 64, 67, 0.3), 0px 1px 3px 1px rgba(60, 64, 67, 0.15);\n",
              "      fill: #174EA6;\n",
              "    }\n",
              "\n",
              "    [theme=dark] .colab-df-convert {\n",
              "      background-color: #3B4455;\n",
              "      fill: #D2E3FC;\n",
              "    }\n",
              "\n",
              "    [theme=dark] .colab-df-convert:hover {\n",
              "      background-color: #434B5C;\n",
              "      box-shadow: 0px 1px 3px 1px rgba(0, 0, 0, 0.15);\n",
              "      filter: drop-shadow(0px 1px 2px rgba(0, 0, 0, 0.3));\n",
              "      fill: #FFFFFF;\n",
              "    }\n",
              "  </style>\n",
              "\n",
              "      <script>\n",
              "        const buttonEl =\n",
              "          document.querySelector('#df-8e3bcb82-5061-4c05-9ec3-8e05119abde5 button.colab-df-convert');\n",
              "        buttonEl.style.display =\n",
              "          google.colab.kernel.accessAllowed ? 'block' : 'none';\n",
              "\n",
              "        async function convertToInteractive(key) {\n",
              "          const element = document.querySelector('#df-8e3bcb82-5061-4c05-9ec3-8e05119abde5');\n",
              "          const dataTable =\n",
              "            await google.colab.kernel.invokeFunction('convertToInteractive',\n",
              "                                                     [key], {});\n",
              "          if (!dataTable) return;\n",
              "\n",
              "          const docLinkHtml = 'Like what you see? Visit the ' +\n",
              "            '<a target=\"_blank\" href=https://colab.research.google.com/notebooks/data_table.ipynb>data table notebook</a>'\n",
              "            + ' to learn more about interactive tables.';\n",
              "          element.innerHTML = '';\n",
              "          dataTable['output_type'] = 'display_data';\n",
              "          await google.colab.output.renderOutput(dataTable, element);\n",
              "          const docLink = document.createElement('div');\n",
              "          docLink.innerHTML = docLinkHtml;\n",
              "          element.appendChild(docLink);\n",
              "        }\n",
              "      </script>\n",
              "    </div>\n",
              "  </div>\n",
              "  "
            ]
          },
          "metadata": {},
          "execution_count": 14
        }
      ]
    },
    {
      "cell_type": "code",
      "source": [
        "Duplicate_Input=X"
      ],
      "metadata": {
        "id": "E1EX8zIVgXRA"
      },
      "execution_count": 15,
      "outputs": []
    },
    {
      "cell_type": "code",
      "source": [
        "scaler=StandardScaler()\n",
        "X=scaler.fit_transform(X)"
      ],
      "metadata": {
        "id": "Z3hmoZ7DgZXq"
      },
      "execution_count": 16,
      "outputs": []
    },
    {
      "cell_type": "code",
      "source": [
        "X[:5]"
      ],
      "metadata": {
        "id": "dktFgG6ggYoi",
        "outputId": "a3527fd8-2e44-44f9-98d0-963f7b431762",
        "colab": {
          "base_uri": "https://localhost:8080/"
        }
      },
      "execution_count": 17,
      "outputs": [
        {
          "output_type": "execute_result",
          "data": {
            "text/plain": [
              "array([[ 2.90379056,  2.20713079,  2.48105976,  0.62501768,  2.1532688 ],\n",
              "       [ 2.64484309,  5.95713983,  4.57464442, -0.19145934,  2.11539554],\n",
              "       [ 8.22574074,  6.7261509 ,  5.49883944,  1.25400459,  6.45254056],\n",
              "       [-0.39489098, -0.84299177, -0.29152532, -0.59282007, -0.76139831],\n",
              "       [ 1.93563622,  3.89204269,  4.74439452, -0.45300332,  0.68933148]])"
            ]
          },
          "metadata": {},
          "execution_count": 17
        }
      ]
    },
    {
      "cell_type": "markdown",
      "source": [
        "#**Splitting Data into Training data & Test data**"
      ],
      "metadata": {
        "id": "poHtm2MXlQMM"
      }
    },
    {
      "cell_type": "code",
      "source": [
        "X_train, X_test, Y_train, Y_test= train_test_split(X, Y, test_size=0.2, random_state=2)"
      ],
      "metadata": {
        "id": "c7vVG1-2Ox3C"
      },
      "execution_count": 18,
      "outputs": []
    },
    {
      "cell_type": "code",
      "source": [
        "print(type(X_train))\n",
        "print(Y_train.shape)\n",
        "print(X_test.shape)\n",
        "print(Y_train[:10])"
      ],
      "metadata": {
        "colab": {
          "base_uri": "https://localhost:8080/"
        },
        "id": "8spNX0_4F1vE",
        "outputId": "f1481b69-dd4f-4459-9bac-442d3fc48c0a"
      },
      "execution_count": 19,
      "outputs": [
        {
          "output_type": "stream",
          "name": "stdout",
          "text": [
            "<class 'numpy.ndarray'>\n",
            "(1128,)\n",
            "(283, 5)\n",
            "1263    1110455\n",
            "146      893152\n",
            "1077     914180\n",
            "323     1596293\n",
            "141     1821087\n",
            "665      337919\n",
            "1007     436054\n",
            "590     1672679\n",
            "67       492893\n",
            "1265     644458\n",
            "Name: Solo score, dtype: int64\n"
          ]
        }
      ]
    },
    {
      "cell_type": "markdown",
      "source": [
        "#**Model Evaluation**"
      ],
      "metadata": {
        "id": "U5ErIoG8b2R2"
      }
    },
    {
      "cell_type": "markdown",
      "source": [
        "###**Accuracy Score**"
      ],
      "metadata": {
        "id": "rKWVHZwVb5XO"
      }
    },
    {
      "cell_type": "code",
      "source": [
        "from sklearn.linear_model import LogisticRegression\n",
        "random_forest_regressor=RandomForestRegressor()\n",
        "random_forest_regressor.fit(X_train,Y_train)"
      ],
      "metadata": {
        "id": "AF9i5_uzi2-Y",
        "outputId": "dc954204-a9ee-4e6d-ed9c-4ddc7ec6bef6",
        "colab": {
          "base_uri": "https://localhost:8080/"
        }
      },
      "execution_count": 20,
      "outputs": [
        {
          "output_type": "execute_result",
          "data": {
            "text/plain": [
              "RandomForestRegressor()"
            ]
          },
          "metadata": {},
          "execution_count": 20
        }
      ]
    },
    {
      "cell_type": "code",
      "source": [
        "random_forest_regressor.score(X_train,Y_train)"
      ],
      "metadata": {
        "id": "JasZaXZRlblN",
        "colab": {
          "base_uri": "https://localhost:8080/"
        },
        "outputId": "6f709d64-0ace-4054-c87b-9e409d657fb8"
      },
      "execution_count": 21,
      "outputs": [
        {
          "output_type": "execute_result",
          "data": {
            "text/plain": [
              "0.9772978094450255"
            ]
          },
          "metadata": {},
          "execution_count": 21
        }
      ]
    },
    {
      "cell_type": "code",
      "source": [
        "print(X_train[:5])\n",
        "print(Y_train[:5])"
      ],
      "metadata": {
        "id": "6ntBtsRS0w4y",
        "colab": {
          "base_uri": "https://localhost:8080/"
        },
        "outputId": "0cb0eace-6f57-433e-f76b-9b9382ddcb99"
      },
      "execution_count": 22,
      "outputs": [
        {
          "output_type": "stream",
          "name": "stdout",
          "text": [
            "[[-0.56301359 -0.85163235 -0.83849789  0.13792027 -0.47870456]\n",
            " [-0.38136388 -0.35047907 -0.49899768 -0.1976776  -0.32738642]\n",
            " [-0.22483593 -0.29863562 -0.49899768  0.47521403  0.15377025]\n",
            " [-0.47412118 -0.93803809 -0.78191452  0.80139028 -0.31689037]\n",
            " [ 0.35296476  1.58500947  0.33089174  0.15638663  1.25725554]]\n",
            "1263    1110455\n",
            "146      893152\n",
            "1077     914180\n",
            "323     1596293\n",
            "141     1821087\n",
            "Name: Solo score, dtype: int64\n"
          ]
        }
      ]
    },
    {
      "cell_type": "code",
      "source": [
        "user_input=np.array([[1828,\t4.37,\t18.0,\t10150,\t36328]])\n",
        "new_X=np.append(Duplicate_Input,user_input,axis=0)\n",
        "new_X.shape"
      ],
      "metadata": {
        "id": "5dAzYPtg5QuF",
        "colab": {
          "base_uri": "https://localhost:8080/"
        },
        "outputId": "db0d9183-b553-4762-adb7-e16e768ed93f"
      },
      "execution_count": 23,
      "outputs": [
        {
          "output_type": "execute_result",
          "data": {
            "text/plain": [
              "(1412, 5)"
            ]
          },
          "metadata": {},
          "execution_count": 23
        }
      ]
    },
    {
      "cell_type": "code",
      "source": [
        "#Normalizing user input\n",
        "new_arr=scaler.fit_transform(new_X)\n",
        "get_value=new_arr[1411]"
      ],
      "metadata": {
        "id": "z78BMp4q5Wdo"
      },
      "execution_count": 24,
      "outputs": []
    },
    {
      "cell_type": "code",
      "source": [
        "score=random_forest_regressor.predict([get_value])\n",
        "print(score[0])"
      ],
      "metadata": {
        "id": "OjK1_l1o0n1m",
        "colab": {
          "base_uri": "https://localhost:8080/"
        },
        "outputId": "abcb8394-b485-4b94-ce46-4d6ec82c2c19"
      },
      "execution_count": 25,
      "outputs": [
        {
          "output_type": "stream",
          "name": "stdout",
          "text": [
            "2372349.99\n"
          ]
        }
      ]
    },
    {
      "cell_type": "code",
      "source": [
        "if (score[0]>=0 and score[0]<=2255887.67):\n",
        "  print('Matchmaking in Open League...')\n",
        "elif (score[0]>2255887.67 and score[0]<=4511775.34):\n",
        "  print('Matchmaking in Contender League...')\n",
        "elif (score[0]>4511775.34):\n",
        "  print('Matchmaking in Champion League...')"
      ],
      "metadata": {
        "id": "eo5FnX2L2bvc",
        "colab": {
          "base_uri": "https://localhost:8080/"
        },
        "outputId": "30f36982-93e7-4919-ac29-64051cb90010"
      },
      "execution_count": 26,
      "outputs": [
        {
          "output_type": "stream",
          "name": "stdout",
          "text": [
            "Matchmaking in Contender League...\n"
          ]
        }
      ]
    },
    {
      "cell_type": "code",
      "source": [
        "predictions=random_forest_regressor.predict(X_test)\n",
        "predictions"
      ],
      "metadata": {
        "colab": {
          "base_uri": "https://localhost:8080/"
        },
        "id": "-2gGqaiUH9Ji",
        "outputId": "0507684f-e005-4e19-9f89-8da61992ddbb"
      },
      "execution_count": 27,
      "outputs": [
        {
          "output_type": "execute_result",
          "data": {
            "text/plain": [
              "array([ 821507.52, 1965234.05, 1052665.11,  384146.86,  834461.  ,\n",
              "        176827.86, 1542973.56,  118120.73,  897172.52,  945036.88,\n",
              "       1310052.32, 1055840.62, 1171418.74,  244019.12, 1438364.81,\n",
              "        598822.81,  916233.83,  347997.23, 1924110.37,  857926.02,\n",
              "       1010464.13, 1111833.23,  656591.42,  427924.34,  350688.5 ,\n",
              "       1180428.34, 3310189.6 , 2635875.51,  623923.83,  910246.52,\n",
              "        734612.46,  350399.05,  850819.89,  445083.67,  201886.62,\n",
              "       1317784.69, 1371033.77, 1611105.76,  916592.05,   69357.9 ,\n",
              "       1144239.12, 1299297.48,  406727.73,  733924.98,  616919.56,\n",
              "       1574438.28,  642545.85,  615016.76,  430753.97, 1913207.18,\n",
              "       1011127.68, 2416281.6 , 1087761.27,  981141.96, 1427570.38,\n",
              "       1538357.6 , 1475169.65,  917562.75, 1923411.1 , 1264191.22,\n",
              "       3172364.07, 1301462.03,  772388.16, 1290867.48, 1098980.08,\n",
              "       1177286.4 , 1534052.44, 1962843.51,  572120.7 ,  978720.63,\n",
              "        178244.03,   98818.93, 1636795.66,  307836.87,  468217.42,\n",
              "       1562793.48, 2144522.43,  658377.49,  277032.9 ,  109178.22,\n",
              "       3396948.9 ,   16434.21,   83526.83,  412410.72,   50023.78,\n",
              "       1426173.29, 2665904.94,  454162.34, 1728894.15,  333693.46,\n",
              "       2723271.63,  851626.69,   30144.17,  750181.59,  829257.84,\n",
              "        516879.2 ,  966139.88, 2365457.58,  519975.15, 1026093.85,\n",
              "       1264762.22, 2233453.27, 1975921.11, 2959387.22, 1936429.42,\n",
              "       1054771.08,  781981.95,  830323.56, 1232803.14, 2369833.29,\n",
              "       1265784.21,  714154.54,   79597.24, 1408448.92,  632276.03,\n",
              "         19447.07,  407556.81,  104098.76, 2212790.09,  559969.74,\n",
              "       1261963.68,  326600.88, 2336486.16,  693998.43,  278122.94,\n",
              "        686802.27, 3700818.45, 2126778.11,  420878.6 ,  721203.99,\n",
              "       2075219.59,  177405.32,  762756.92, 3004680.84,  724793.85,\n",
              "       1155295.95, 1340786.78,  858032.84, 1414652.6 ,  764914.74,\n",
              "       1535284.93,  623179.46, 1426967.12, 1317255.98,  308348.51,\n",
              "       1551585.87, 3117113.2 , 1197120.31, 1309030.69, 1293640.15,\n",
              "        255366.39, 1017241.5 ,  257257.04, 1302468.16, 1940362.37,\n",
              "       1637160.87,  839347.64,  580812.16, 1032423.63, 1556588.78,\n",
              "       1589429.23, 1530269.74,  440357.81,  951166.35,  932282.18,\n",
              "         37073.79, 2614317.51,   69767.52, 2475873.7 ,  716543.59,\n",
              "       1473630.38, 1503866.68,   28067.33,  230899.09,  622943.61,\n",
              "        593866.5 , 1883271.86,  143865.63,  598167.69,  117067.02,\n",
              "        786488.4 ,  778239.45, 1318015.44,  825830.96,  340703.99,\n",
              "         36491.45, 2189957.87,  456410.24, 1093792.16, 1176888.76,\n",
              "        500774.85,  995258.95,  723182.51,  616791.51,   97822.34,\n",
              "        599370.63,  249803.89,  744230.92,  177762.06, 1225180.61,\n",
              "        192823.54,  911664.81,  369931.16,  537667.6 , 1042640.24,\n",
              "       1523617.98,  554660.31,  315726.54, 2305855.97, 1269625.77,\n",
              "       1274692.03, 1469946.73,  512860.41,  553207.28, 1047455.68,\n",
              "        836710.05,   67421.72, 2700630.96,  342669.99, 1618621.3 ,\n",
              "        741398.13,  598233.64, 2623077.48, 1495068.11, 1746457.63,\n",
              "        927340.29, 1623608.93,  772087.59, 2144602.03, 1444799.72,\n",
              "        869280.21,  538823.28,  624366.42,  276583.79,  691474.75,\n",
              "       1003353.06,  869746.66,  751823.1 , 1966580.1 ,  282863.36,\n",
              "        151828.38, 1157595.1 , 1459559.15,  630914.87,  194322.87,\n",
              "        138459.48,  239869.82,  838383.19,  796736.15,   81721.89,\n",
              "        189287.78, 2499596.59,  578467.97, 1672965.99,  169928.69,\n",
              "        204653.02,  123054.52, 1425658.68,  310731.2 , 1391781.08,\n",
              "        237368.92,  653528.8 , 1270922.25,  109243.62, 1089728.97,\n",
              "        743232.45,  517813.05, 3219165.83,  750641.97,  218264.12,\n",
              "        557491.39,  831708.74, 1079150.2 , 1258459.56, 1550768.36,\n",
              "        272490.26, 1050754.91,  908688.45,  141225.81, 1812786.5 ,\n",
              "        671142.88,  483266.77,  788093.49])"
            ]
          },
          "metadata": {},
          "execution_count": 27
        }
      ]
    },
    {
      "cell_type": "markdown",
      "source": [
        "#**Visualization in accordance with the values predicted**"
      ],
      "metadata": {
        "id": "l3U38ZdZMaC_"
      }
    },
    {
      "cell_type": "code",
      "source": [
        "sns.distplot(Y_test-predictions)"
      ],
      "metadata": {
        "colab": {
          "base_uri": "https://localhost:8080/",
          "height": 362
        },
        "id": "BwjgSREmIAoA",
        "outputId": "b8a60b9f-7bce-4853-a725-6c1bbad4ee41"
      },
      "execution_count": 28,
      "outputs": [
        {
          "output_type": "stream",
          "name": "stderr",
          "text": [
            "/usr/local/lib/python3.7/dist-packages/seaborn/distributions.py:2619: FutureWarning: `distplot` is a deprecated function and will be removed in a future version. Please adapt your code to use either `displot` (a figure-level function with similar flexibility) or `histplot` (an axes-level function for histograms).\n",
            "  warnings.warn(msg, FutureWarning)\n"
          ]
        },
        {
          "output_type": "execute_result",
          "data": {
            "text/plain": [
              "<matplotlib.axes._subplots.AxesSubplot at 0x7fec9c2901d0>"
            ]
          },
          "metadata": {},
          "execution_count": 28
        },
        {
          "output_type": "display_data",
          "data": {
            "text/plain": [
              "<Figure size 432x288 with 1 Axes>"
            ],
            "image/png": "[encoded data removed]"
          },
          "metadata": {
            "needs_background": "light"
          }
        }
      ]
    },
    {
      "cell_type": "code",
      "source": [
        "plt.scatter(Y_test,predictions)"
      ],
      "metadata": {
        "colab": {
          "base_uri": "https://localhost:8080/",
          "height": 306
        },
        "id": "pY9W8e5jIKBC",
        "outputId": "29da9414-9e8a-4c3d-b3fc-c64ca1904688"
      },
      "execution_count": 29,
      "outputs": [
        {
          "output_type": "execute_result",
          "data": {
            "text/plain": [
              "<matplotlib.collections.PathCollection at 0x7fec9dca2c10>"
            ]
          },
          "metadata": {},
          "execution_count": 29
        },
        {
          "output_type": "display_data",
          "data": {
            "text/plain": [
              "<Figure size 432x288 with 1 Axes>"
            ],
            "image/png": "[encoded data removed]"
          },
          "metadata": {
            "needs_background": "light"
          }
        }
      ]
    }
  ]
}